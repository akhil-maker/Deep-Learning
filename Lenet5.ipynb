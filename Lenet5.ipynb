{
  "nbformat": 4,
  "nbformat_minor": 0,
  "metadata": {
    "colab": {
      "provenance": [],
      "authorship_tag": "ABX9TyN+aMg4+2zv0KQuy/jG1sN6",
      "include_colab_link": true
    },
    "kernelspec": {
      "name": "python3",
      "display_name": "Python 3"
    },
    "language_info": {
      "name": "python"
    }
  },
  "cells": [
    {
      "cell_type": "markdown",
      "metadata": {
        "id": "view-in-github",
        "colab_type": "text"
      },
      "source": [
        "<a href=\"https://colab.research.google.com/github/akhil-maker/Deep-Learning/blob/master/Lenet5.ipynb\" target=\"_parent\"><img src=\"https://colab.research.google.com/assets/colab-badge.svg\" alt=\"Open In Colab\"/></a>"
      ]
    },
    {
      "cell_type": "code",
      "source": [
        "import torch\n",
        "import torch.nn as nn\n",
        "import torchvision\n",
        "import torchvision.transforms as transforms\n",
        "import torch.nn.functional as F"
      ],
      "metadata": {
        "id": "QiIvCz5KholF"
      },
      "execution_count": 43,
      "outputs": []
    },
    {
      "cell_type": "code",
      "execution_count": 44,
      "metadata": {
        "id": "5XOj0i44TqE7"
      },
      "outputs": [],
      "source": [
        "transform = transforms.Compose([\n",
        "    transforms.Pad(2),\n",
        "    transforms.ToTensor(),\n",
        "    transforms.Normalize((0.1307, ), (0.3081, ))\n",
        "])\n",
        "\n",
        "train_dataset = torchvision.datasets.MNIST(root='./data', train=True, download=True, transform=transform)\n",
        "test_dataset = torchvision.datasets.MNIST(root='./data', train=False, download=True, transform=transform)\n",
        "\n",
        "train_dataloader = torch.utils.data.DataLoader(train_dataset, batch_size=64, shuffle=True)\n",
        "test_dataloader = torch.utils.data.DataLoader(test_dataset, batch_size=64, shuffle=False)"
      ]
    },
    {
      "cell_type": "code",
      "source": [
        "train_dataset.data[0].shape"
      ],
      "metadata": {
        "colab": {
          "base_uri": "https://localhost:8080/"
        },
        "id": "3-cueNw9jTgq",
        "outputId": "2722f30b-1dc5-409c-b8b6-e61012e634fc"
      },
      "execution_count": 45,
      "outputs": [
        {
          "output_type": "execute_result",
          "data": {
            "text/plain": [
              "torch.Size([28, 28])"
            ]
          },
          "metadata": {},
          "execution_count": 45
        }
      ]
    },
    {
      "cell_type": "code",
      "source": [
        "class LeNet5(nn.Module):\n",
        "  def __init__(self):\n",
        "    super(LeNet5, self).__init__()\n",
        "    self.conv1 = nn.Conv2d(in_channels=1, out_channels=6, kernel_size=5, stride=1)\n",
        "    self.pool1 = nn.MaxPool2d(kernel_size=2, stride=2)\n",
        "    self.conv2 = nn.Conv2d(in_channels=6, out_channels=16, kernel_size=5, stride=1)\n",
        "    self.pool2 = nn.MaxPool2d(kernel_size=2, stride=2)\n",
        "    # Calculate the input size for the first fully connected layer\n",
        "    # based on the output size after the conv and pool layers.\n",
        "    # Input size: 1x28x28\n",
        "    # After conv1 (5x5 kernel, stride 1, padding 2): 1x32x32 -> 6x28x28 (output size calculation: (input_size - kernel_size + 2*padding)/stride + 1)\n",
        "    # After pool1 (2x2 kernel, stride 2): 6x14x14\n",
        "    # After conv2 (5x5 kernel, stride 1): 6x14x14 -> 16x10x10\n",
        "    # After pool2 (2x2 kernel, stride 2): 16x5x5\n",
        "    self.fc1 = nn.Linear(in_features=16*5*5, out_features=120)\n",
        "    self.fc2 = nn.Linear(in_features=120, out_features=84)\n",
        "    self.fc3 = nn.Linear(in_features=84, out_features=10)\n",
        "\n",
        "  def forward(self, x):\n",
        "    x = self.conv1(x)\n",
        "    x = self.pool1(F.relu(x))\n",
        "    x = self.conv2(x)\n",
        "    x = self.pool2(F.relu(x))\n",
        "    x = x.view(-1, 16*5*5) # Reshape the tensor to match the input of the first fully connected layer\n",
        "    x = self.fc1(x)\n",
        "    x = self.fc2(x)\n",
        "    x = self.fc3(x)\n",
        "    return x"
      ],
      "metadata": {
        "id": "1w6XuW0RheZu"
      },
      "execution_count": 46,
      "outputs": []
    },
    {
      "cell_type": "code",
      "source": [
        "model = LeNet5()\n",
        "loss_fn = nn.CrossEntropyLoss()\n",
        "optimizer = torch.optim.Adam(model.parameters(), lr=0.001)"
      ],
      "metadata": {
        "id": "iqvFYjFGl1hs"
      },
      "execution_count": 47,
      "outputs": []
    },
    {
      "cell_type": "code",
      "source": [
        "for epoch in range(10):\n",
        "  model.train()\n",
        "  for xb, yb in train_dataloader:\n",
        "    pred = model(xb)\n",
        "    loss = loss_fn(pred, yb)\n",
        "    loss.backward()\n",
        "    optimizer.step()\n",
        "    optimizer.zero_grad()\n",
        "\n",
        "  model.eval()\n",
        "  correct = 0\n",
        "  total_loss = 0\n",
        "  with torch.no_grad():\n",
        "    for xb, yb in test_dataloader:\n",
        "      pred = model(xb)\n",
        "      loss = loss_fn(pred, yb)\n",
        "      total_loss += loss.item()\n",
        "      pred = torch.argmax(pred, dim=1)\n",
        "      correct += (pred == yb).sum().item()\n",
        "  print(f\"Epoch {epoch} val_loss {total_loss} accuracy: {correct:.4f}\")"
      ],
      "metadata": {
        "colab": {
          "base_uri": "https://localhost:8080/"
        },
        "id": "qgs4V2EymEOK",
        "outputId": "60eb1496-ddf8-4169-f06a-c9e11376143d"
      },
      "execution_count": 49,
      "outputs": [
        {
          "output_type": "stream",
          "name": "stdout",
          "text": [
            "Epoch 0 val_loss 6.615876127951196 accuracy: 9867.0000\n",
            "Epoch 1 val_loss 6.268524947699916 accuracy: 9872.0000\n",
            "Epoch 2 val_loss 7.072163025397458 accuracy: 9851.0000\n",
            "Epoch 3 val_loss 6.5722986315740854 accuracy: 9855.0000\n",
            "Epoch 4 val_loss 5.921918610101784 accuracy: 9874.0000\n",
            "Epoch 5 val_loss 6.102289465198737 accuracy: 9888.0000\n",
            "Epoch 6 val_loss 6.9384347162995255 accuracy: 9872.0000\n",
            "Epoch 7 val_loss 6.023855745301262 accuracy: 9891.0000\n",
            "Epoch 8 val_loss 6.915884139099489 accuracy: 9877.0000\n",
            "Epoch 9 val_loss 9.113462038907528 accuracy: 9845.0000\n"
          ]
        }
      ]
    },
    {
      "cell_type": "code",
      "source": [],
      "metadata": {
        "id": "Jcm1iSSbpicj"
      },
      "execution_count": null,
      "outputs": []
    }
  ]
}