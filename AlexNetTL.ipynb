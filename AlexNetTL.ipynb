{
  "nbformat": 4,
  "nbformat_minor": 0,
  "metadata": {
    "colab": {
      "provenance": [],
      "authorship_tag": "ABX9TyPzjY47d3zrVv744XguLhgc"
    },
    "kernelspec": {
      "name": "python3",
      "display_name": "Python 3"
    },
    "language_info": {
      "name": "python"
    }
  },
  "cells": [
    {
      "cell_type": "code",
      "execution_count": 1,
      "metadata": {
        "colab": {
          "base_uri": "https://localhost:8080/"
        },
        "id": "RwtLBDxYwTVg",
        "outputId": "8d1b06b1-2b7d-432e-8d51-ec7b4b56501c"
      },
      "outputs": [
        {
          "output_type": "stream",
          "name": "stderr",
          "text": [
            "/usr/local/lib/python3.12/dist-packages/torchvision/models/_utils.py:208: UserWarning: The parameter 'pretrained' is deprecated since 0.13 and may be removed in the future, please use 'weights' instead.\n",
            "  warnings.warn(\n",
            "/usr/local/lib/python3.12/dist-packages/torchvision/models/_utils.py:223: UserWarning: Arguments other than a weight enum or `None` for 'weights' are deprecated since 0.13 and may be removed in the future. The current behavior is equivalent to passing `weights=AlexNet_Weights.IMAGENET1K_V1`. You can also use `weights=AlexNet_Weights.DEFAULT` to get the most up-to-date weights.\n",
            "  warnings.warn(msg)\n"
          ]
        },
        {
          "output_type": "stream",
          "name": "stdout",
          "text": [
            "Downloading: \"https://download.pytorch.org/models/alexnet-owt-7be5be79.pth\" to /root/.cache/torch/hub/checkpoints/alexnet-owt-7be5be79.pth\n"
          ]
        },
        {
          "output_type": "stream",
          "name": "stderr",
          "text": [
            "100%|██████████| 233M/233M [00:01<00:00, 153MB/s]\n"
          ]
        }
      ],
      "source": [
        "import torchvision.models as models\n",
        "\n",
        "alexnet = models.alexnet(pretrained=True)"
      ]
    },
    {
      "cell_type": "code",
      "source": [
        "for param in alexnet.features.parameters():\n",
        "  param.requires_grad = False\n",
        "\n",
        "for param in alexnet.classifier[:-1].parameters():\n",
        "  param.requires_grad = False"
      ],
      "metadata": {
        "id": "sDyMzJVT01Ox"
      },
      "execution_count": 2,
      "outputs": []
    },
    {
      "cell_type": "code",
      "source": [
        "import torch.nn as nn\n",
        "\n",
        "num_classes = 10\n",
        "alexnet.classifier[6] = nn.Linear(4096, num_classes)"
      ],
      "metadata": {
        "id": "f7sCoayH1Va1"
      },
      "execution_count": 13,
      "outputs": []
    },
    {
      "cell_type": "code",
      "source": [
        "import torch.optim as optim\n",
        "optimizer = optim.Adam(alexnet.classifier[6].parameters(), lr=0.001)"
      ],
      "metadata": {
        "id": "eyFkJkhY1lnc"
      },
      "execution_count": 14,
      "outputs": []
    },
    {
      "cell_type": "code",
      "source": [
        "import torch\n",
        "import torchvision\n",
        "import torchvision.transforms as transforms\n",
        "\n",
        "transform = transforms.Compose([\n",
        "    transforms.Resize(224),  # Resize to match AlexNet input\n",
        "    transforms.ToTensor(),\n",
        "    transforms.Normalize((0.5, 0.5, 0.5), (0.5, 0.5, 0.5))\n",
        "])\n",
        "\n",
        "train_dataset = torchvision.datasets.CIFAR10(root='./data', train=True, download=True, transform=transform)\n",
        "test_dataset = torchvision.datasets.CIFAR10(root='./data', train=False, download=True, transform=transform)\n",
        "\n",
        "train_loader = torch.utils.data.DataLoader(train_dataset, batch_size=64, shuffle=True)\n",
        "test_loader = torch.utils.data.DataLoader(test_dataset, batch_size=1000, shuffle=False)"
      ],
      "metadata": {
        "id": "IN_K_X2f3oo_"
      },
      "execution_count": 15,
      "outputs": []
    },
    {
      "cell_type": "code",
      "source": [
        "loss_fn = nn.CrossEntropyLoss()\n",
        "optimizer = torch.optim.Adam(alexnet.parameters(), lr=0.01)"
      ],
      "metadata": {
        "id": "N2igUoN15MYB"
      },
      "execution_count": 16,
      "outputs": []
    },
    {
      "cell_type": "code",
      "source": [
        "for epoch in range(10):\n",
        "  alexnet.train()\n",
        "  for xb, yb in train_loader:\n",
        "    pred = alexnet(xb)\n",
        "    loss = loss_fn(pred, yb)\n",
        "    loss.backward()\n",
        "    optimizer.step()\n",
        "    optimizer.zero_grad()\n",
        "\n",
        "  alexnet.eval()\n",
        "  correct = 0\n",
        "  total = 0\n",
        "  with torch.no_grad():\n",
        "    for xb, yb in test_loader:\n",
        "      pred = alexnet(xb)\n",
        "      _, predicted = torch.max(pred, 1)\n",
        "      correct += (predicted==yb).sum().item()\n",
        "      total += yb.size(0)\n",
        "  accuracy = correct/total\n",
        "  print(f'Epoch {epoch+1} accuracy {accuracy:.4f}')"
      ],
      "metadata": {
        "colab": {
          "base_uri": "https://localhost:8080/"
        },
        "id": "8ycdknDBeosl",
        "outputId": "b8998706-44e2-4633-d329-a4af37ab354b"
      },
      "execution_count": 17,
      "outputs": [
        {
          "output_type": "stream",
          "name": "stdout",
          "text": [
            "Epoch 1 accuracy 0.6960\n",
            "Epoch 2 accuracy 0.6958\n",
            "Epoch 3 accuracy 0.7085\n",
            "Epoch 4 accuracy 0.6984\n",
            "Epoch 5 accuracy 0.7507\n",
            "Epoch 6 accuracy 0.7578\n",
            "Epoch 7 accuracy 0.7304\n",
            "Epoch 8 accuracy 0.7208\n",
            "Epoch 9 accuracy 0.7329\n",
            "Epoch 10 accuracy 0.7348\n"
          ]
        }
      ]
    }
  ]
}