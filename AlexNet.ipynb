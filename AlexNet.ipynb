{
  "cells": [
    {
      "cell_type": "code",
      "execution_count": null,
      "metadata": {
        "id": "bTAHR-vHW8c8"
      },
      "outputs": [],
      "source": [
        "import torch\n",
        "import torch.nn as nn\n",
        "import torchvision\n",
        "import torchvision.transforms as transforms\n",
        "import torch.nn.functional as F"
      ]
    },
    {
      "cell_type": "code",
      "execution_count": null,
      "metadata": {
        "colab": {
          "base_uri": "https://localhost:8080/"
        },
        "id": "F17x_6XDYSUQ",
        "outputId": "fea99f3a-8870-41f8-b311-4149e6d8fc09"
      },
      "outputs": [
        {
          "name": "stderr",
          "output_type": "stream",
          "text": [
            "100%|██████████| 170M/170M [00:15<00:00, 11.3MB/s]\n"
          ]
        }
      ],
      "source": [
        "transform = transforms.Compose([\n",
        "    transforms.Resize(224),\n",
        "    transforms.ToTensor(),\n",
        "    transforms.Normalize((0.5, 0.5, 0.5), (0.5, 0.5, 0.5))\n",
        "])\n",
        "train_dataset = torchvision.datasets.CIFAR10(root='/data', train=True, download=True, transform=transform)\n",
        "test_dataset = torchvision.datasets.CIFAR10(root='/data', train=False, download=True, transform=transform)"
      ]
    },
    {
      "cell_type": "code",
      "execution_count": null,
      "metadata": {
        "colab": {
          "base_uri": "https://localhost:8080/"
        },
        "id": "eIhPFbIaYvdV",
        "outputId": "3b7cd010-8375-4070-840d-c5d9014b4d02"
      },
      "outputs": [
        {
          "name": "stdout",
          "output_type": "stream",
          "text": [
            "['airplane', 'automobile', 'bird', 'cat', 'deer', 'dog', 'frog', 'horse', 'ship', 'truck']\n",
            "torch.Size([3, 224, 224]) 6\n"
          ]
        }
      ],
      "source": [
        "print(train_dataset.classes)\n",
        "img, label = train_dataset[0]\n",
        "print(img.shape, label)"
      ]
    },
    {
      "cell_type": "code",
      "execution_count": null,
      "metadata": {
        "id": "_sgJew7xY_aY"
      },
      "outputs": [],
      "source": [
        "train_dataloader = torch.utils.data.DataLoader(train_dataset, batch_size=64, shuffle=True)\n",
        "test_dataloader = torch.utils.data.DataLoader(test_dataset, batch_size=1000, shuffle=False)"
      ]
    },
    {
      "cell_type": "code",
      "execution_count": null,
      "metadata": {
        "id": "L4W0J7jjZlBU"
      },
      "outputs": [],
      "source": [
        "class AlexNet(nn.Module):\n",
        "  def __init__(self, num_classes=10):\n",
        "    super(AlexNet, self).__init__()\n",
        "    self.features = nn.Sequential(\n",
        "        nn.Conv2d(in_channels=3, out_channels=64, kernel_size=11, stride=4, padding=2), #224x224x3 -> 55x55x64\n",
        "        nn.ReLU(),\n",
        "        nn.MaxPool2d(kernel_size=3, stride=2), #55x55x64 -> 27x27x64\n",
        "\n",
        "        nn.Conv2d(in_channels=64, out_channels=192, kernel_size=5, padding=2), #27x27x64 -> 27x27x192\n",
        "        nn.ReLU(),\n",
        "        nn.MaxPool2d(kernel_size=3, stride=2), #27x27x192 -> 13x13x192\n",
        "\n",
        "        nn.Conv2d(in_channels=192, out_channels=384, kernel_size=3, padding=1), #13x13x192 -> 13x13x384\n",
        "        nn.ReLU(),\n",
        "\n",
        "        nn.Conv2d(in_channels=384, out_channels=256, kernel_size=3, padding=1), #13x13x384 -> 13x13x256\n",
        "        nn.ReLU(),\n",
        "\n",
        "        nn.Conv2d(in_channels=256, out_channels=256, kernel_size=3, padding=1), #13x13x256 -> 13x13x256\n",
        "        nn.ReLU(),\n",
        "        nn.MaxPool2d(kernel_size=3, stride=2) #13x13x256 -> 6x6x256\n",
        "    )\n",
        "\n",
        "    self.classifier = nn.Sequential(\n",
        "        nn.Dropout(),\n",
        "        nn.Linear(in_features=256*6*6, out_features=4096), #6x6x256 -> 4096\n",
        "        nn.ReLU(),\n",
        "\n",
        "        nn.Dropout(),\n",
        "        nn.Linear(in_features=4096, out_features=4096), #4096 -> 4096\n",
        "        nn.ReLU(),\n",
        "\n",
        "        nn.Linear(in_features=4096, out_features=num_classes) #4096 -> 10\n",
        "    )\n",
        "\n",
        "  def forward(self, x):\n",
        "    x = self.features(x)\n",
        "    x = x.view(x.size(0), -1)\n",
        "    x = self.classifier(x)\n",
        "    return x"
      ]
    },
    {
      "cell_type": "code",
      "execution_count": null,
      "metadata": {
        "id": "qKG5b8mWsZSh"
      },
      "outputs": [],
      "source": [
        "model = AlexNet(num_classes=10)\n",
        "loss_fn = nn.CrossEntropyLoss()\n",
        "optimizer = torch.optim.Adam(model.parameters(), lr=0.01)"
      ]
    },
    {
      "cell_type": "code",
      "execution_count": null,
      "metadata": {
        "colab": {
          "background_save": true,
          "base_uri": "https://localhost:8080/"
        },
        "id": "b1Ezd7CZ6Nr2",
        "outputId": "ea238606-91b8-45af-8d1b-28308dd12a7b"
      },
      "outputs": [
        {
          "name": "stdout",
          "output_type": "stream",
          "text": [
            "Epoch 1 accuracy 0.1000\n",
            "Epoch 2 accuracy 0.1000\n"
          ]
        }
      ],
      "source": [
        "for epoch in range(10):\n",
        "  model.train()\n",
        "  for xb, yb in train_dataloader:\n",
        "    pred = model(xb)\n",
        "    loss = loss_fn(pred, yb)\n",
        "    loss.backward()\n",
        "    optimizer.step()\n",
        "    optimizer.zero_grad()\n",
        "\n",
        "  model.eval()\n",
        "  correct = 0\n",
        "  total = 0\n",
        "  with torch.no_grad():\n",
        "    for xb, yb in test_dataloader:\n",
        "      pred = model(xb)\n",
        "      _, predicted = torch.max(pred, 1)\n",
        "      correct += (predicted==yb).sum().item()\n",
        "      total += yb.size(0)\n",
        "  accuracy = correct/total\n",
        "  print(f'Epoch {epoch+1} accuracy {accuracy:.4f}')"
      ]
    }
  ],
  "metadata": {
    "colab": {
      "provenance": [],
      "authorship_tag": "ABX9TyPKGwOmXO3kfvjvcvLNK923"
    },
    "kernelspec": {
      "display_name": "Python 3",
      "name": "python3"
    },
    "language_info": {
      "name": "python"
    }
  },
  "nbformat": 4,
  "nbformat_minor": 0
}