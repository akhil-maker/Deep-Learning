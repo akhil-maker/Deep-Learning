{
  "cells": [
    {
      "cell_type": "markdown",
      "metadata": {
        "id": "view-in-github",
        "colab_type": "text"
      },
      "source": [
        "<a href=\"https://colab.research.google.com/github/akhil-maker/Deep-Learning/blob/master/CNN.ipynb\" target=\"_parent\"><img src=\"https://colab.research.google.com/assets/colab-badge.svg\" alt=\"Open In Colab\"/></a>"
      ]
    },
    {
      "cell_type": "markdown",
      "metadata": {
        "id": "pG7AqlxcbKZh"
      },
      "source": [
        "1.\tImage Classification with a CNN:\n",
        "o\tTask: Build and train a CNN to classify images from a public dataset.\n",
        "o\tDataset: Start with the CIFAR-10 dataset. It contains 60,000 32x32 color images in 10 classes (e.g., airplane, dog, cat)."
      ]
    },
    {
      "cell_type": "code",
      "execution_count": null,
      "metadata": {
        "id": "FovHdVP0bAuY"
      },
      "outputs": [],
      "source": [
        "import torch\n",
        "import torchvision\n",
        "import torchvision.transforms as transforms"
      ]
    },
    {
      "cell_type": "code",
      "execution_count": null,
      "metadata": {
        "id": "h4-xCOLHbuE4"
      },
      "outputs": [],
      "source": [
        "transform = transforms.Compose([\n",
        "    transforms.ToTensor(),\n",
        "    transforms.Normalize((0.5, 0.5, 0.5), (0.5, 0.5, 0.5))\n",
        "])"
      ]
    },
    {
      "cell_type": "code",
      "execution_count": null,
      "metadata": {
        "colab": {
          "base_uri": "https://localhost:8080/"
        },
        "id": "Xzg1F7szcvZp",
        "outputId": "ba996911-a26c-4ffb-e296-bb78f5bda91f"
      },
      "outputs": [
        {
          "name": "stderr",
          "output_type": "stream",
          "text": [
            "100%|██████████| 170M/170M [00:02<00:00, 74.5MB/s]\n"
          ]
        }
      ],
      "source": [
        "trainset = torchvision.datasets.CIFAR10(root='./data', train=True, download=True, transform=transform)\n",
        "testset = torchvision.datasets.CIFAR10(root='./data', train=False, download=True, transform=transform)"
      ]
    },
    {
      "cell_type": "code",
      "execution_count": null,
      "metadata": {
        "id": "l8_CiZk_hO8B"
      },
      "outputs": [],
      "source": [
        "cifar10 = torchvision.datasets.CIFAR10(root='./data', train=True, download=True, transform=transform)\n",
        "classes = cifar10.classes"
      ]
    },
    {
      "cell_type": "code",
      "execution_count": null,
      "metadata": {
        "colab": {
          "base_uri": "https://localhost:8080/"
        },
        "id": "c_6B6sDbd1NI",
        "outputId": "5e22fb2c-91af-4f86-9280-8cd59d2294bb"
      },
      "outputs": [
        {
          "name": "stdout",
          "output_type": "stream",
          "text": [
            "['airplane', 'automobile', 'bird', 'cat', 'deer', 'dog', 'frog', 'horse', 'ship', 'truck']\n"
          ]
        }
      ],
      "source": [
        "print(classes)"
      ]
    },
    {
      "cell_type": "code",
      "execution_count": null,
      "metadata": {
        "id": "P3L1Elu_Ndom"
      },
      "outputs": [],
      "source": [
        "train_loader = torch.utils.data.DataLoader(trainset, batch_size=4, shuffle=True, num_workers=2)\n",
        "test_loader = torch.utils.data.DataLoader(testset, batch_size=4, shuffle=False, num_workers=2)"
      ]
    },
    {
      "cell_type": "code",
      "execution_count": null,
      "metadata": {
        "id": "MQTdCspThjEz"
      },
      "outputs": [],
      "source": [
        "import torch\n",
        "import torch.nn as nn\n",
        "import torch.nn.functional as F"
      ]
    },
    {
      "cell_type": "code",
      "execution_count": null,
      "metadata": {
        "id": "Wgx4bPfNJo0Z"
      },
      "outputs": [],
      "source": [
        "class SimpleCNN(nn.Module):\n",
        "  def __init__(self):\n",
        "    super(SimpleCNN, self).__init__()\n",
        "    self.conv1 = nn.Conv2d(in_channels=3, out_channels=16, kernel_size=3, padding=1)\n",
        "    self.conv2 = nn.Conv2d(in_channels=16, out_channels=32, kernel_size=3, padding=1)\n",
        "    self.pool = nn.MaxPool2d(kernel_size=2, stride=2)\n",
        "    self.fc1 = nn.Linear(32 * 8 * 8, 10)\n",
        "\n",
        "  def forward(self, x):\n",
        "    x = self.conv1(x)\n",
        "    x = F.relu(x)\n",
        "    x = self.pool(x)\n",
        "    x = self.conv2(x)\n",
        "    x = F.relu(x)\n",
        "    x = self.pool(x)\n",
        "    x = x.view(-1, 32 * 8 * 8)\n",
        "    x = self.fc1(x)\n",
        "    return x"
      ]
    },
    {
      "cell_type": "code",
      "execution_count": null,
      "metadata": {
        "id": "1K57BJH7KZou"
      },
      "outputs": [],
      "source": [
        "model = SimpleCNN()\n",
        "loss_fn = nn.CrossEntropyLoss()\n",
        "optim = torch.optim.Adam(model.parameters(), lr=0.01)"
      ]
    },
    {
      "cell_type": "code",
      "execution_count": null,
      "metadata": {
        "colab": {
          "base_uri": "https://localhost:8080/"
        },
        "id": "0ccYn1OnQohq",
        "outputId": "b1a987c7-0a85-4dc7-e9bf-7ca59eae8f0d"
      },
      "outputs": [
        {
          "name": "stdout",
          "output_type": "stream",
          "text": [
            "SimpleCNN(\n",
            "  (conv1): Conv2d(3, 16, kernel_size=(3, 3), stride=(1, 1), padding=(1, 1))\n",
            "  (conv2): Conv2d(16, 32, kernel_size=(3, 3), stride=(1, 1), padding=(1, 1))\n",
            "  (pool): MaxPool2d(kernel_size=2, stride=2, padding=0, dilation=1, ceil_mode=False)\n",
            "  (fc1): Linear(in_features=2048, out_features=10, bias=True)\n",
            ")\n"
          ]
        }
      ],
      "source": [
        "print(model)"
      ]
    },
    {
      "cell_type": "code",
      "execution_count": null,
      "metadata": {
        "colab": {
          "background_save": true,
          "base_uri": "https://localhost:8080/"
        },
        "id": "QjNwCVp0NRYN",
        "outputId": "38716700-0614-435e-e98e-89e1ffe50207"
      },
      "outputs": [
        {
          "name": "stdout",
          "output_type": "stream",
          "text": [
            "Epoch 1, Validation Loss: 2.3068, Accuracy: 0.1000\n",
            "Epoch 2, Validation Loss: 2.3062, Accuracy: 0.1000\n",
            "Epoch 3, Validation Loss: 2.3041, Accuracy: 0.1000\n",
            "Epoch 4, Validation Loss: 2.3054, Accuracy: 0.1000\n",
            "Epoch 5, Validation Loss: 2.3055, Accuracy: 0.1000\n",
            "Epoch 6, Validation Loss: 2.3072, Accuracy: 0.1000\n",
            "Epoch 7, Validation Loss: 2.3036, Accuracy: 0.1000\n",
            "Epoch 8, Validation Loss: 2.3066, Accuracy: 0.1000\n",
            "Epoch 9, Validation Loss: 2.3065, Accuracy: 0.1000\n",
            "Epoch 10, Validation Loss: 2.3068, Accuracy: 0.1000\n",
            "Epoch 11, Validation Loss: 2.3060, Accuracy: 0.1000\n",
            "Epoch 12, Validation Loss: 2.3053, Accuracy: 0.1000\n",
            "Epoch 13, Validation Loss: 2.3078, Accuracy: 0.1000\n",
            "Epoch 14, Validation Loss: 2.3069, Accuracy: 0.1000\n",
            "Epoch 15, Validation Loss: 2.3058, Accuracy: 0.1000\n",
            "Epoch 16, Validation Loss: 2.3069, Accuracy: 0.1000\n",
            "Epoch 17, Validation Loss: 2.3087, Accuracy: 0.1000\n",
            "Epoch 18, Validation Loss: 2.3092, Accuracy: 0.1000\n",
            "Epoch 19, Validation Loss: 2.3057, Accuracy: 0.1000\n",
            "Epoch 20, Validation Loss: 2.3079, Accuracy: 0.1000\n",
            "Epoch 21, Validation Loss: 2.3064, Accuracy: 0.1000\n",
            "Epoch 22, Validation Loss: 2.3082, Accuracy: 0.1000\n",
            "Epoch 23, Validation Loss: 2.3063, Accuracy: 0.1000\n",
            "Epoch 24, Validation Loss: 2.3087, Accuracy: 0.1000\n",
            "Epoch 25, Validation Loss: 2.3057, Accuracy: 0.1000\n",
            "Epoch 26, Validation Loss: 2.3072, Accuracy: 0.1000\n",
            "Epoch 27, Validation Loss: 2.3062, Accuracy: 0.1000\n",
            "Epoch 28, Validation Loss: 2.3053, Accuracy: 0.1000\n",
            "Epoch 29, Validation Loss: 2.3069, Accuracy: 0.1000\n",
            "Epoch 30, Validation Loss: 2.3092, Accuracy: 0.1000\n",
            "Epoch 31, Validation Loss: 2.3043, Accuracy: 0.1000\n",
            "Epoch 32, Validation Loss: 2.3093, Accuracy: 0.1000\n",
            "Epoch 33, Validation Loss: 2.3071, Accuracy: 0.1000\n",
            "Epoch 34, Validation Loss: 2.3073, Accuracy: 0.1000\n",
            "Epoch 35, Validation Loss: 2.3054, Accuracy: 0.1000\n",
            "Epoch 36, Validation Loss: 2.3035, Accuracy: 0.1000\n",
            "Epoch 37, Validation Loss: 2.3051, Accuracy: 0.1000\n",
            "Epoch 38, Validation Loss: 2.3053, Accuracy: 0.1000\n",
            "Epoch 39, Validation Loss: 2.3114, Accuracy: 0.1000\n",
            "Epoch 40, Validation Loss: 2.3049, Accuracy: 0.1000\n"
          ]
        }
      ],
      "source": [
        "for epoch in range(40):\n",
        "  for xb, yb in train_loader:\n",
        "    pred = model(xb)\n",
        "    loss = loss_fn(pred, yb)\n",
        "    loss.backward()\n",
        "    optim.step()\n",
        "    optim.zero_grad()\n",
        "  with torch.no_grad():\n",
        "    total_loss = 0\n",
        "    correct = 0\n",
        "    total = 0\n",
        "\n",
        "    for xb_val, yb_val in test_loader:\n",
        "      val_pred = model(xb_val)\n",
        "      val_loss = loss_fn(val_pred, yb_val)\n",
        "      total_loss += val_loss.item()\n",
        "\n",
        "      # Compute accuracy\n",
        "      _, predicted = torch.max(val_pred, 1)\n",
        "      correct += (predicted == yb_val).sum().item()\n",
        "      total += yb_val.size(0)\n",
        "\n",
        "    avg_val_loss = total_loss / len(test_loader)\n",
        "    accuracy = correct / total\n",
        "\n",
        "    print(f\"Epoch {epoch+1}, Validation Loss: {avg_val_loss:.4f}, Accuracy: {accuracy:.4f}\")\n"
      ]
    },
    {
      "cell_type": "code",
      "source": [],
      "metadata": {
        "id": "01IRT7f53jed"
      },
      "execution_count": null,
      "outputs": []
    }
  ],
  "metadata": {
    "colab": {
      "provenance": [],
      "authorship_tag": "ABX9TyMVeN1R1TJkTiXVO9mcyijR",
      "include_colab_link": true
    },
    "kernelspec": {
      "display_name": "Python 3",
      "name": "python3"
    },
    "language_info": {
      "name": "python"
    }
  },
  "nbformat": 4,
  "nbformat_minor": 0
}